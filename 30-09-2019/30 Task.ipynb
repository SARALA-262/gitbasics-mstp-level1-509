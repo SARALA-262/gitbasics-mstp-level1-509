{
 "cells": [
  {
   "cell_type": "markdown",
   "metadata": {},
   "source": [
    "## Task"
   ]
  },
  {
   "cell_type": "code",
   "execution_count": 13,
   "metadata": {},
   "outputs": [
    {
     "name": "stdout",
     "output_type": "stream",
     "text": [
      "{1: 1, 2: 4, 3: 9, 4: 16, 5: 25, 6: 36, 7: 49, 8: 64, 9: 81, 10: 100, 11: 121, 12: 144, 13: 169, 14: 196, 15: 225}\n",
      "[1, 4, 9, 16, 25, 36, 49, 64, 81, 100, 121, 144, 169, 196, 225]\n"
     ]
    }
   ],
   "source": [
    "#.Write a Python program to generate and print a list and a dictionary of square of numbers between 1 and 15 (both included) \n",
    "a={}\n",
    "l=[]\n",
    "n=15\n",
    "for i in range(1,n+1):\n",
    "    a[i]=i**2\n",
    "    l.append(i**2)\n",
    "print(a)\n",
    "print(l)\n"
   ]
  },
  {
   "cell_type": "code",
   "execution_count": 30,
   "metadata": {},
   "outputs": [
    {
     "name": "stdout",
     "output_type": "stream",
     "text": [
      "10\n",
      "[1, 2, 3, 4, 5, 6, 7, 8, 9, 10]\n"
     ]
    }
   ],
   "source": [
    "#Take 10 integer inputs from user and store them in a list and print them on screen.\n",
    "n=int(input())\n",
    "a=[]\n",
    "for i in range(1,n+1):\n",
    "    a.append(i)\n",
    "print(a)"
   ]
  },
  {
   "cell_type": "code",
   "execution_count": 9,
   "metadata": {},
   "outputs": [
    {
     "name": "stdout",
     "output_type": "stream",
     "text": [
      "[1, 5, 7, 3, 2, 4, 5, 9, 4, 2, 4, 2, 2, 2] "
     ]
    }
   ],
   "source": [
    "#.l=[1,5,7,3,2,4,5,9],print list of all even numbers from the given list \n",
    "l=[1,5,7,3,2,4,5,9]\n",
    "s=[]\n",
    "for i in l:\n",
    "    if l[i]%2==0:\n",
    "        s.append(l[i])\n",
    "print(l,end=\" \")"
   ]
  },
  {
   "cell_type": "code",
   "execution_count": 16,
   "metadata": {},
   "outputs": [
    {
     "name": "stdout",
     "output_type": "stream",
     "text": [
      "10\n",
      "20\n",
      "-5\n",
      "-6\n",
      "3\n",
      "4\n",
      "0\n",
      "0\n",
      "-2\n",
      "8\n",
      "{'p': 5, 'n': 3, 'o': 2, 'e': 6, 'x': 2}\n"
     ]
    }
   ],
   "source": [
    "#Take 10 integer inputs from user and print the following:\n",
    "l=[]\n",
    "for i in range(1,11):\n",
    "    n=int(input())\n",
    "    l.append(n)\n",
    "d={'p':0,'n':0,'o':0,'e':0,'x':0}\n",
    "for j in l:\n",
    "    if j>0:\n",
    "        d['p']+=1\n",
    "        if j%2==0:\n",
    "            d['e']+=1\n",
    "        else:\n",
    "            d['o']+=1\n",
    "    elif j<0:\n",
    "        d['n']+=1\n",
    "        if j%2==0:\n",
    "            d['e']+=1\n",
    "        else:\n",
    "            d['o']+=1\n",
    "    elif j==0:\n",
    "        d['x']+=1\n",
    "print(d)"
   ]
  },
  {
   "cell_type": "code",
   "execution_count": 2,
   "metadata": {},
   "outputs": [
    {
     "name": "stdout",
     "output_type": "stream",
     "text": [
      "{'M': 1, 'I': 4, 'S': 4, 'P': 2}\n"
     ]
    }
   ],
   "source": [
    "#Count the number of occurrence of each letter in word \"MISSISSIPPI\". Store count of every letter with the letter in a dictionary.\n",
    "s=\"MISSISSIPPI\"\n",
    "m={}\n",
    "for j in s:\n",
    "    m[j]=s.count(j)\n",
    "print(m)"
   ]
  },
  {
   "cell_type": "code",
   "execution_count": 7,
   "metadata": {},
   "outputs": [
    {
     "name": "stdout",
     "output_type": "stream",
     "text": [
      "I M P S "
     ]
    }
   ],
   "source": [
    "#.From the previous question, sort according to the number of letters.\n",
    "a=\"MISSISSIPPI\"\n",
    "b=list(set(a))\n",
    "b=sorted(b)\n",
    "for k in b:\n",
    "    print(k,end=\" \")"
   ]
  },
  {
   "cell_type": "code",
   "execution_count": 1,
   "metadata": {},
   "outputs": [
    {
     "name": "stdout",
     "output_type": "stream",
     "text": [
      "10\n",
      "sarala\n",
      "20\n",
      "hani\n",
      "30\n",
      "sanvi\n",
      "39\n",
      "jerisha\n",
      "40\n",
      "sampu\n",
      "45\n",
      "syman\n",
      "50\n",
      "steph\n",
      "70\n",
      "philip\n",
      "35\n",
      "jaya\n",
      "65\n",
      "apple\n",
      "55\n",
      "{'sarala': 20, 'hani': 30, 'sanvi': 39, 'jerisha': 40, 'sampu': 45, 'syman': 50, 'steph': 70, 'philip': 35, 'jaya': 65, 'apple': 55}\n"
     ]
    }
   ],
   "source": [
    "#.Ask user to give name and marks of 10 different students. Store them in dictionary.\n",
    "d={}\n",
    "n=int(input())\n",
    "for i in range(1,n+1):\n",
    "    s=input()\n",
    "    x=int(input())\n",
    "    d[s]=x\n",
    "print(d)"
   ]
  },
  {
   "cell_type": "code",
   "execution_count": 8,
   "metadata": {},
   "outputs": [
    {
     "ename": "NameError",
     "evalue": "name 'x' is not defined",
     "output_type": "error",
     "traceback": [
      "\u001b[1;31m---------------------------------------------------------------------------\u001b[0m",
      "\u001b[1;31mNameError\u001b[0m                                 Traceback (most recent call last)",
      "\u001b[1;32m<ipython-input-8-1dc30692e941>\u001b[0m in \u001b[0;36m<module>\u001b[1;34m\u001b[0m\n\u001b[0;32m      1\u001b[0m \u001b[1;31m#.Sort the dictionary created in previous example according to marks.\u001b[0m\u001b[1;33m\u001b[0m\u001b[1;33m\u001b[0m\u001b[1;33m\u001b[0m\u001b[0m\n\u001b[1;32m----> 2\u001b[1;33m \u001b[0mprint\u001b[0m\u001b[1;33m(\u001b[0m\u001b[0mx\u001b[0m\u001b[1;33m)\u001b[0m\u001b[1;33m\u001b[0m\u001b[1;33m\u001b[0m\u001b[0m\n\u001b[0m\u001b[0;32m      3\u001b[0m \u001b[0my\u001b[0m\u001b[1;33m=\u001b[0m\u001b[0msorted\u001b[0m\u001b[1;33m(\u001b[0m\u001b[0mx\u001b[0m\u001b[1;33m.\u001b[0m\u001b[0mkeys\u001b[0m\u001b[1;33m(\u001b[0m\u001b[1;33m)\u001b[0m\u001b[1;33m)\u001b[0m\u001b[1;33m\u001b[0m\u001b[1;33m\u001b[0m\u001b[0m\n\u001b[0;32m      4\u001b[0m \u001b[0mprint\u001b[0m\u001b[1;33m(\u001b[0m\u001b[0my\u001b[0m\u001b[1;33m)\u001b[0m\u001b[1;33m\u001b[0m\u001b[1;33m\u001b[0m\u001b[0m\n\u001b[0;32m      5\u001b[0m \u001b[1;32mfor\u001b[0m \u001b[0mi\u001b[0m \u001b[1;32min\u001b[0m \u001b[0my\u001b[0m\u001b[1;33m:\u001b[0m\u001b[1;33m\u001b[0m\u001b[1;33m\u001b[0m\u001b[0m\n",
      "\u001b[1;31mNameError\u001b[0m: name 'x' is not defined"
     ]
    }
   ],
   "source": [
    "#.Sort the dictionary created in previous example according to marks.\n",
    "print(x)\n",
    "y=sorted(x.keys())\n",
    "print(y)\n",
    "for i in y:\n",
    "    print(i,\":\",x[i])"
   ]
  },
  {
   "cell_type": "code",
   "execution_count": 1,
   "metadata": {},
   "outputs": [
    {
     "name": "stdout",
     "output_type": "stream",
     "text": [
      "push\n",
      "pop\n",
      "top\n",
      "down\n",
      "right\n",
      "left\n"
     ]
    }
   ],
   "source": [
    "# Use dictionary to store antonyms of words. \n",
    "d={\"right\":\"left\",\"top\":\"down\",\"push\":\"pop\"}\n",
    "for i in d.keys():\n",
    "    n=input()\n",
    "    print(d.get(n))"
   ]
  },
  {
   "cell_type": "code",
   "execution_count": null,
   "metadata": {},
   "outputs": [],
   "source": []
  }
 ],
 "metadata": {
  "kernelspec": {
   "display_name": "Python 3",
   "language": "python",
   "name": "python3"
  },
  "language_info": {
   "codemirror_mode": {
    "name": "ipython",
    "version": 3
   },
   "file_extension": ".py",
   "mimetype": "text/x-python",
   "name": "python",
   "nbconvert_exporter": "python",
   "pygments_lexer": "ipython3",
   "version": "3.7.3"
  }
 },
 "nbformat": 4,
 "nbformat_minor": 2
}
