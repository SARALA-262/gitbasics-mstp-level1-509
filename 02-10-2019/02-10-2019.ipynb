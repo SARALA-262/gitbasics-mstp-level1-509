{
 "cells": [
  {
   "cell_type": "markdown",
   "metadata": {},
   "source": [
    "## Regular expressions"
   ]
  },
  {
   "cell_type": "markdown",
   "metadata": {},
   "source": [
    "1.abc- that matches the character sequqnce anywhere in the string.\n",
    "2.^abc- at beging of the string.\n",
    "3.abc$- at end of the string.\n",
    "4.a|b- either of a and b.\n",
    "5.^abc|abc$- the string abc begining of the string or at end of the string.\n",
    "6.ab{2,4}c- a followed by 2,3,4 b's followed by c.\n",
    "7.ab{2,}c- a followed by at least 2 b's followed by c.\n",
    "8.ab*c- a followed by any number b's followed by c.\n",
    "9.ab+c- a followed by one or more b's followed by c.\n",
    "10.a.c- a.c exactly.(a to c in any one character)"
   ]
  },
  {
   "cell_type": "markdown",
   "metadata": {},
   "source": [
    "### phone number validation"
   ]
  },
  {
   "cell_type": "code",
   "execution_count": 4,
   "metadata": {},
   "outputs": [
    {
     "data": {
      "text/plain": [
       "1"
      ]
     },
     "execution_count": 4,
     "metadata": {},
     "output_type": "execute_result"
    }
   ],
   "source": [
    "#^[0][6-9][0-9]{9}$ # 10 digit number starting with 0\n",
    "#^+91[6-9][0-9]{9}$# 10 digits number starting with +91\n",
    "#^[6-9][0-9]{9}$\n",
    "import re\n",
    "def phonenumber(n):\n",
    "    pattern=\"^[+][9][1][6-9][0-9]{9}$|^[0][6-9][0-9]{9}$|^[6-9][0-9]{9}$\"\n",
    "    if re.match(pattern,str(n)):\n",
    "        return 1\n",
    "    else:\n",
    "        return 0\n",
    "phonenumber(\"9160888116\")\n",
    "phonenumber(\"+919160888116\")\n",
    "phonenumber(\"07364238487\")"
   ]
  },
  {
   "cell_type": "markdown",
   "metadata": {},
   "source": [
    "### Email validation"
   ]
  },
  {
   "cell_type": "code",
   "execution_count": 13,
   "metadata": {},
   "outputs": [
    {
     "data": {
      "text/plain": [
       "1"
      ]
     },
     "execution_count": 13,
     "metadata": {},
     "output_type": "execute_result"
    }
   ],
   "source": [
    "import re\n",
    "def mailid(e):\n",
    "    expr=\"^([0-9]|[a-z]|[A-Z])([0-9]|[a-z]|[A-Z]|[_]){6,14}([0-9]|[a-z])@[a-z]{2,10}[.][a-z]{2,4}$\"\n",
    "    if re.match(expr,str(e)):\n",
    "        return 1\n",
    "    else:\n",
    "        return 0\n",
    "mailid(\"bandarisarala1@gmail.com\")"
   ]
  },
  {
   "cell_type": "code",
   "execution_count": null,
   "metadata": {},
   "outputs": [],
   "source": []
  }
 ],
 "metadata": {
  "kernelspec": {
   "display_name": "Python 3",
   "language": "python",
   "name": "python3"
  },
  "language_info": {
   "codemirror_mode": {
    "name": "ipython",
    "version": 3
   },
   "file_extension": ".py",
   "mimetype": "text/x-python",
   "name": "python",
   "nbconvert_exporter": "python",
   "pygments_lexer": "ipython3",
   "version": "3.7.3"
  }
 },
 "nbformat": 4,
 "nbformat_minor": 2
}
