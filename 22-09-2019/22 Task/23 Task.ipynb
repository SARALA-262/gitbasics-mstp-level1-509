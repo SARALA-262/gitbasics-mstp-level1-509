{
 "cells": [
  {
   "cell_type": "markdown",
   "metadata": {},
   "source": [
    "## Task"
   ]
  },
  {
   "cell_type": "code",
   "execution_count": 4,
   "metadata": {},
   "outputs": [
    {
     "name": "stdout",
     "output_type": "stream",
     "text": [
      "bandari \n",
      "sarala\n",
      "sarala bandari \n"
     ]
    }
   ],
   "source": [
    "#1.Write a Python program which accepts the user's first and last name and print them in reverse order with a space between them.\n",
    "x=input()\n",
    "y=input()\n",
    "print(y+\" \"+x)"
   ]
  },
  {
   "cell_type": "code",
   "execution_count": 2,
   "metadata": {},
   "outputs": [
    {
     "name": "stdout",
     "output_type": "stream",
     "text": [
      "abc.java\n",
      "java\n"
     ]
    }
   ],
   "source": [
    "#2.Write a Python program to accept a filename from the user and print the extension of that. \n",
    "#Sample filename : abc. java\n",
    "#Output : java  \n",
    "a=input()\n",
    "b=a.split('.')\n",
    "c=b[1]\n",
    "print(c)"
   ]
  },
  {
   "cell_type": "code",
   "execution_count": 3,
   "metadata": {},
   "outputs": [
    {
     "name": "stdout",
     "output_type": "stream",
     "text": [
      "5\n",
      "155\n"
     ]
    }
   ],
   "source": [
    "# 3. Write a Python program that accepts an integer (n) and computes the value of n+nn+nnn. \n",
    "#Sample value of n is 5\n",
    "#Expected Result : 615 \n",
    "n=int(input())\n",
    "print(n+n*n+n*n*n)"
   ]
  },
  {
   "cell_type": "code",
   "execution_count": 4,
   "metadata": {},
   "outputs": [
    {
     "name": "stdout",
     "output_type": "stream",
     "text": [
      "PyTHon is EasY\n",
      "pYthON IS eASy\n"
     ]
    }
   ],
   "source": [
    "#5.Write a Python script that takes input from the user and displays that input back in upper and lower cases \n",
    "a=input()\n",
    "print(a.swapcase())"
   ]
  },
  {
   "cell_type": "code",
   "execution_count": 5,
   "metadata": {},
   "outputs": [
    {
     "name": "stdout",
     "output_type": "stream",
     "text": [
      "['abc', 'xyz']\n",
      "xyc abz\n"
     ]
    }
   ],
   "source": [
    "#4.Write a Python program to get a single string from two given strings, separated by a space and swap the first two characters of each string. \n",
    "#Sample String : 'abc', 'xyz'\n",
    "#Expected Result : 'xyc abz' \n",
    "x=\"abc xyz\"\n",
    "y=x.split(\" \")\n",
    "z=y[0].replace(\"ab\",\"xy\")\n",
    "p=y[1].replace(\"xy\",\"ab\")\n",
    "print(y)\n",
    "print(z,p)"
   ]
  },
  {
   "cell_type": "code",
   "execution_count": 2,
   "metadata": {},
   "outputs": [
    {
     "name": "stdout",
     "output_type": "stream",
     "text": [
      "abc\n",
      "xyz\n",
      "xyc abz\n"
     ]
    }
   ],
   "source": [
    "a=input()\n",
    "b=input()\n",
    "a1=b[0:2]+a[2:]\n",
    "b1=a[0:2]+b[2:]\n",
    "print(a1+\" \"+b1)"
   ]
  },
  {
   "cell_type": "code",
   "execution_count": 6,
   "metadata": {},
   "outputs": [
    {
     "name": "stdout",
     "output_type": "stream",
     "text": [
      "sarala\n",
      "5\n",
      "saral\n"
     ]
    }
   ],
   "source": [
    "#6.Write a Python program to lowercase first n characters in a string \n",
    "s=input()\n",
    "len_=int(input())\n",
    "print(s[:len_].lower())"
   ]
  },
  {
   "cell_type": "code",
   "execution_count": null,
   "metadata": {},
   "outputs": [],
   "source": []
  }
 ],
 "metadata": {
  "kernelspec": {
   "display_name": "Python 3",
   "language": "python",
   "name": "python3"
  },
  "language_info": {
   "codemirror_mode": {
    "name": "ipython",
    "version": 3
   },
   "file_extension": ".py",
   "mimetype": "text/x-python",
   "name": "python",
   "nbconvert_exporter": "python",
   "pygments_lexer": "ipython3",
   "version": "3.7.3"
  }
 },
 "nbformat": 4,
 "nbformat_minor": 2
}
