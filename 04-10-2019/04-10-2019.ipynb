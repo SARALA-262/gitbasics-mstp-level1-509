{
 "cells": [
  {
   "cell_type": "code",
   "execution_count": 1,
   "metadata": {},
   "outputs": [],
   "source": [
    "## File modes\n",
    "##Tell\n",
    "## Seek\n",
    "## w+=write&read"
   ]
  },
  {
   "cell_type": "code",
   "execution_count": 13,
   "metadata": {},
   "outputs": [],
   "source": [
    "## create a file=file_operations.txt\n",
    "def file_write(f):\n",
    "    with open(\"file_operations.txt\",\"w\") as f:\n",
    "        f.write(\"hello python\\n\")\n",
    "        f.write(\"dasara mahostavam\\n\")\n",
    "f=\"file_operations.txt\"\n",
    "file_write(f)"
   ]
  },
  {
   "cell_type": "code",
   "execution_count": 16,
   "metadata": {},
   "outputs": [
    {
     "name": "stdout",
     "output_type": "stream",
     "text": [
      "hello python\n",
      "dasara mahostavam\n",
      "\n"
     ]
    }
   ],
   "source": [
    "def file_read(f):\n",
    "    with open(\"file_operations.txt\",\"r\") as f:\n",
    "        f1=f.read()\n",
    "        print(f1)\n",
    "f=\"file_operations.txt\"\n",
    "file_read(f)"
   ]
  },
  {
   "cell_type": "code",
   "execution_count": 24,
   "metadata": {},
   "outputs": [],
   "source": [
    "def file_write(f,mode):\n",
    "    with open(\"file_operations.txt\",\"w\") as f:\n",
    "        f.write(mode)\n",
    "        f.write(\"pythonprm\\n\")\n",
    "file_write(f,\"world\\n\")"
   ]
  },
  {
   "cell_type": "code",
   "execution_count": 25,
   "metadata": {},
   "outputs": [
    {
     "name": "stdout",
     "output_type": "stream",
     "text": [
      "worl\n",
      "4\n"
     ]
    }
   ],
   "source": [
    "f=open(\"file_operations.txt\",\"r\")\n",
    "f1=f.read(4)\n",
    "print(f1)\n",
    "print(f.tell())\n",
    "f.close()"
   ]
  },
  {
   "cell_type": "code",
   "execution_count": 30,
   "metadata": {},
   "outputs": [
    {
     "name": "stdout",
     "output_type": "stream",
     "text": [
      "world\n",
      "pythonprm\n",
      "16\n",
      "3\n"
     ]
    }
   ],
   "source": [
    "f=open(\"file_operations.txt\",\"r\")\n",
    "f1=f.read(15)\n",
    "print(f1)\n",
    "print(f.tell())\n",
    "f2=f.seek(3)\n",
    "print(f2)\n",
    "f.close()"
   ]
  },
  {
   "cell_type": "code",
   "execution_count": 37,
   "metadata": {},
   "outputs": [
    {
     "name": "stdout",
     "output_type": "stream",
     "text": [
      "d\n",
      "pythonprm\n",
      "\n"
     ]
    }
   ],
   "source": [
    "f=open(\"file_operations.txt\",\"r\")\n",
    "f.read()\n",
    "f.seek(4)\n",
    "f.tell()\n",
    "print(f.read())"
   ]
  },
  {
   "cell_type": "code",
   "execution_count": 38,
   "metadata": {},
   "outputs": [
    {
     "name": "stdout",
     "output_type": "stream",
     "text": [
      "world\n",
      "pythonprm\n",
      "\n",
      "d\n",
      "pythonprm\n",
      "\n"
     ]
    }
   ],
   "source": [
    "f=open(\"file_operations.txt\",\"r\")\n",
    "print(f.read())\n",
    "f.seek(4)\n",
    "f.tell()\n",
    "print(f.read())"
   ]
  },
  {
   "cell_type": "code",
   "execution_count": 40,
   "metadata": {},
   "outputs": [
    {
     "name": "stdout",
     "output_type": "stream",
     "text": [
      "rld is good\n"
     ]
    }
   ],
   "source": [
    "def write_read(f):\n",
    "    with open(\"file_operations.txt\",\"w+\") as f:\n",
    "        f.write(\"world is good\")\n",
    "        f.seek(2)\n",
    "        f1=f.read()\n",
    "        print(f1)\n",
    "f=\"file_operations.txt\"\n",
    "write_read(f)"
   ]
  },
  {
   "cell_type": "code",
   "execution_count": 67,
   "metadata": {},
   "outputs": [
    {
     "name": "stdout",
     "output_type": "stream",
     "text": [
      "121\n",
      "palindrome\n"
     ]
    }
   ],
   "source": [
    "## Number palindrome using fumctions \n",
    "def palindrome(n):\n",
    "    r=0\n",
    "    r=r+n%10\n",
    "    r=r*10\n",
    "    n=(n//10)\n",
    "    if n!=0:\n",
    "        print(\"palindrome\")\n",
    "    else:\n",
    "        print(\"not palindrome\")\n",
    "n=int(input())\n",
    "palindrome(n)    "
   ]
  },
  {
   "cell_type": "code",
   "execution_count": 69,
   "metadata": {},
   "outputs": [
    {
     "name": "stdout",
     "output_type": "stream",
     "text": [
      "madam\n",
      "palindrome\n"
     ]
    }
   ],
   "source": [
    "## palindrome using strings in functions\n",
    "def palindrome(n):\n",
    "    n1=n[::-1]\n",
    "    if n1==n:\n",
    "        print(\"palindrome\")\n",
    "    else:\n",
    "        print(\"not palindrome\")\n",
    "n=input()\n",
    "palindrome(n)"
   ]
  },
  {
   "cell_type": "code",
   "execution_count": null,
   "metadata": {},
   "outputs": [],
   "source": []
  }
 ],
 "metadata": {
  "kernelspec": {
   "display_name": "Python 3",
   "language": "python",
   "name": "python3"
  },
  "language_info": {
   "codemirror_mode": {
    "name": "ipython",
    "version": 3
   },
   "file_extension": ".py",
   "mimetype": "text/x-python",
   "name": "python",
   "nbconvert_exporter": "python",
   "pygments_lexer": "ipython3",
   "version": "3.7.3"
  }
 },
 "nbformat": 4,
 "nbformat_minor": 2
}
