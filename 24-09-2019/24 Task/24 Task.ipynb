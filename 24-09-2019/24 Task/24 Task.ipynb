{
 "cells": [
  {
   "cell_type": "markdown",
   "metadata": {},
   "source": [
    "## Task"
   ]
  },
  {
   "cell_type": "code",
   "execution_count": 28,
   "metadata": {},
   "outputs": [
    {
     "name": "stdout",
     "output_type": "stream",
     "text": [
      "10\n",
      "20\n",
      "5\n",
      "not their exist\n"
     ]
    }
   ],
   "source": [
    "#1.Check if the number exist in a given range (inputs: number(n), range(lower number and upper number) \n",
    "def exist(n):\n",
    "    if(lb<n<ub):\n",
    "        print(\"their exist\")\n",
    "    else:\n",
    "        print(\"not their exist\")\n",
    "lb=int(input())\n",
    "ub=int(input())\n",
    "n=int(input())\n",
    "exist(n)"
   ]
  },
  {
   "cell_type": "code",
   "execution_count": 9,
   "metadata": {},
   "outputs": [
    {
     "name": "stdout",
     "output_type": "stream",
     "text": [
      "1234\n",
      "total number of digits: 4\n"
     ]
    }
   ],
   "source": [
    "#2.Check the number of digits in a given number\n",
    "def digit(n):\n",
    "    n=int(input())\n",
    "    count=0\n",
    "    while(n>0):\n",
    "        count=count+1\n",
    "        n=n//10\n",
    "    print(\"total number of digits:\",count)\n",
    "digit(n)"
   ]
  },
  {
   "cell_type": "code",
   "execution_count": 27,
   "metadata": {},
   "outputs": [
    {
     "name": "stdout",
     "output_type": "stream",
     "text": [
      "4\n",
      "yes\n"
     ]
    }
   ],
   "source": [
    "#3.Check if the given number is a factor of 1000\n",
    "def factor(i):\n",
    "    if((1000%i)==0):\n",
    "        print(\"yes\")\n",
    "    else:\n",
    "        print(\"no\")\n",
    "i=int(input())\n",
    "factor(i)"
   ]
  },
  {
   "cell_type": "code",
   "execution_count": 30,
   "metadata": {},
   "outputs": [
    {
     "data": {
      "text/plain": [
       "25"
      ]
     },
     "execution_count": 30,
     "metadata": {},
     "output_type": "execute_result"
    }
   ],
   "source": [
    "#4.Calculate the square root of a given number\n",
    "def square(n):\n",
    "    return n**2\n",
    "    if n>0:\n",
    "        mapResult=map(square,range(1,n+1))\n",
    "        squareList=(list(mapResult))\n",
    "    else:\n",
    "        squareList=[]\n",
    "square(5)"
   ]
  },
  {
   "cell_type": "code",
   "execution_count": 3,
   "metadata": {},
   "outputs": [
    {
     "name": "stdout",
     "output_type": "stream",
     "text": [
      "4\n",
      "4\n",
      "square\n"
     ]
    }
   ],
   "source": [
    "#5.python program to take values of length and breadth(width) of a rectangle from user and check if it is square or not.\n",
    "def square(l,b):\n",
    "    if(l==b):\n",
    "        print(\"square\")\n",
    "    else:\n",
    "        print(\"rectangle\")\n",
    "l=int(input())\n",
    "b=int(input())\n",
    "square(l,b)"
   ]
  },
  {
   "cell_type": "markdown",
   "metadata": {},
   "source": [
    "#### 6.A school has following rules for grading system:\n",
    "Below 25 - F\n",
    "25 to 45 - E\n",
    "45 to 50 - D\n",
    "50 to 60 - C\n",
    "60 to 80 - B\n",
    "Above 80 - A\n",
    "Ask user to enter marks and print the corresponding grade. "
   ]
  },
  {
   "cell_type": "code",
   "execution_count": 12,
   "metadata": {},
   "outputs": [
    {
     "name": "stdout",
     "output_type": "stream",
     "text": [
      "65\n",
      "B\n"
     ]
    }
   ],
   "source": [
    "def grade(m):\n",
    "    \n",
    "    if(m>80):\n",
    "        print(\"A\")\n",
    "    elif(m>60):\n",
    "        print(\"B\")\n",
    "    elif(m>50):\n",
    "        print(\"C\")\n",
    "    elif(m>45):\n",
    "        print(\"D\")\n",
    "    elif(m>=25):\n",
    "        print(\"E\")\n",
    "    elif(m<25):\n",
    "        print(\"F\")\n",
    "m=int(input())\n",
    "grade(m)"
   ]
  },
  {
   "cell_type": "code",
   "execution_count": 15,
   "metadata": {},
   "outputs": [
    {
     "name": "stdout",
     "output_type": "stream",
     "text": [
      "20\n",
      "60\n",
      "30\n",
      "oldest 60\n",
      "young 20\n"
     ]
    }
   ],
   "source": [
    "#7..Take input of age of 3 people by user and determine oldest and youngest among them.\n",
    "sar=int(input())\n",
    "sam=int(input())\n",
    "mam=int(input())\n",
    "if sar>sam and sar>mam:\n",
    "    oldest=sar\n",
    "elif sam>sar and sam>mam:\n",
    "    oldest=sam\n",
    "else:\n",
    "    oldest=mam\n",
    "if sar<sam and sar<mam:\n",
    "    young=sar\n",
    "elif sam<sar and sam<mam:\n",
    "    young=sam\n",
    "else:\n",
    "    young=mam\n",
    "print(\"oldest\",oldest)\n",
    "print(\"young\",young)"
   ]
  },
  {
   "cell_type": "markdown",
   "metadata": {},
   "source": [
    "#### 8.A student will not be allowed to sit in exam if his/her attendance is less than 75%.\n",
    "\n",
    "Ta8ke following input from user Number of classes held,Number of classes attended.\n",
    "And print percentage of class attended Is student is allowed to sit in exam or not. \n"
   ]
  },
  {
   "cell_type": "code",
   "execution_count": 23,
   "metadata": {},
   "outputs": [
    {
     "name": "stdout",
     "output_type": "stream",
     "text": [
      "360\n",
      "200\n",
      "55.55555555555556\n",
      "not allowed for exam\n"
     ]
    }
   ],
   "source": [
    "def attendence(b,v):\n",
    "    u=((v/b)*100)\n",
    "    print(u)\n",
    "    if(u>75):\n",
    "        print(\"allowed for exam\")\n",
    "    else:\n",
    "        print(\"not allowed for exam\")\n",
    "b=int(input())\n",
    "v=int(input())\n",
    "attendence(b,v)"
   ]
  },
  {
   "cell_type": "code",
   "execution_count": null,
   "metadata": {},
   "outputs": [],
   "source": []
  }
 ],
 "metadata": {
  "kernelspec": {
   "display_name": "Python 3",
   "language": "python",
   "name": "python3"
  },
  "language_info": {
   "codemirror_mode": {
    "name": "ipython",
    "version": 3
   },
   "file_extension": ".py",
   "mimetype": "text/x-python",
   "name": "python",
   "nbconvert_exporter": "python",
   "pygments_lexer": "ipython3",
   "version": "3.7.3"
  }
 },
 "nbformat": 4,
 "nbformat_minor": 2
}
