{
 "cells": [
  {
   "cell_type": "markdown",
   "metadata": {},
   "source": [
    "## File Handling in python"
   ]
  },
  {
   "cell_type": "markdown",
   "metadata": {},
   "source": [
    "* read--->r\n",
    "* write--->w\n",
    "* append--->a\n",
    "* read&write--->r+\n",
    "* write&read--->w+\n",
    "* append&read--->a+\n",
    "* exclussive write--->x"
   ]
  },
  {
   "cell_type": "code",
   "execution_count": 14,
   "metadata": {},
   "outputs": [],
   "source": [
    "# file opening\n",
    "# file=open(\"sample.txt\",\"mode\")"
   ]
  },
  {
   "cell_type": "code",
   "execution_count": 21,
   "metadata": {},
   "outputs": [],
   "source": [
    "# create a file and add some content\n",
    "f=open(\"data.txt\",\"w\")\n",
    "f.write(\"welcome python\")\n",
    "f.write(\"\\njntua university\")\n",
    "f.close()"
   ]
  },
  {
   "cell_type": "code",
   "execution_count": 24,
   "metadata": {},
   "outputs": [
    {
     "name": "stdout",
     "output_type": "stream",
     "text": [
      "welcome python\n",
      "jntua university\n"
     ]
    }
   ],
   "source": [
    "# print content of a file\n",
    "file=open(\"data.txt\",\"r\")\n",
    "f1=file.read()\n",
    "print(f1)\n",
    "file.close()# in some cases we are using close() mode"
   ]
  },
  {
   "cell_type": "code",
   "execution_count": 30,
   "metadata": {},
   "outputs": [
    {
     "name": "stdout",
     "output_type": "stream",
     "text": [
      "welcome python\n",
      "jntua university\n"
     ]
    }
   ],
   "source": [
    "# print data of a file using functions\n",
    "def read(filepath):\n",
    "    filepath=open(\"data.txt\",\"r\")\n",
    "    f1=filepath.read()\n",
    "    print(f1)\n",
    "    filepath.close()\n",
    "filepath=\"data.txt\"\n",
    "read(filepath)"
   ]
  },
  {
   "cell_type": "code",
   "execution_count": 38,
   "metadata": {},
   "outputs": [],
   "source": [
    "# function to write data to a file\n",
    "# data=\"mstp apssdc\"\n",
    "def addwrite(f):\n",
    "    f=open(\"data.txt\",\"w\")\n",
    "    f.write(\"mstp apssdc\")\n",
    "f=\"data.txt\"\n",
    "addwrite(\"f\")"
   ]
  },
  {
   "cell_type": "code",
   "execution_count": 39,
   "metadata": {},
   "outputs": [],
   "source": [
    "# functions to add a new content to a file\n",
    "def appendwrite(f):\n",
    "    f=open(\"data.txt\",\"a\")\n",
    "    f.write(\"\\nsomething went wrong\")\n",
    "f=\"data.txt\"\n",
    "appendwrite(\"f\")"
   ]
  },
  {
   "cell_type": "code",
   "execution_count": 45,
   "metadata": {},
   "outputs": [
    {
     "name": "stdout",
     "output_type": "stream",
     "text": [
      "mstp apssdc\n",
      "something went wrong\n"
     ]
    }
   ],
   "source": [
    "def read(f):\n",
    "    f=open(\"data.txt\",\"r\")\n",
    "    f1=f.read()\n",
    "    print(f1)\n",
    "    f.close()\n",
    "f=\"data.txt\"\n",
    "read(f)"
   ]
  },
  {
   "cell_type": "code",
   "execution_count": 46,
   "metadata": {},
   "outputs": [
    {
     "name": "stdout",
     "output_type": "stream",
     "text": [
      "mstp apssdc\n",
      "\n"
     ]
    }
   ],
   "source": [
    "f=open(\"data.txt\",\"r\")\n",
    "x=f.readline()\n",
    "print(x)"
   ]
  },
  {
   "cell_type": "code",
   "execution_count": 60,
   "metadata": {},
   "outputs": [
    {
     "name": "stdout",
     "output_type": "stream",
     "text": [
      "['mstp apssdc\\n', 'something went wrong']\n"
     ]
    }
   ],
   "source": [
    "f=open(\"data.txt\",\"r\")\n",
    "x=f.readlines()\n",
    "print(x)"
   ]
  },
  {
   "cell_type": "code",
   "execution_count": 2,
   "metadata": {},
   "outputs": [
    {
     "name": "stdout",
     "output_type": "stream",
     "text": [
      "mstp apssdc\n",
      " something went wrong "
     ]
    }
   ],
   "source": [
    "## Accessing all content line by line\n",
    "f=open(\"data.txt\",\"r\")\n",
    "x=f.readlines()\n",
    "for i in x:\n",
    "    print(i,end=\" \")"
   ]
  },
  {
   "cell_type": "code",
   "execution_count": 6,
   "metadata": {},
   "outputs": [
    {
     "name": "stdout",
     "output_type": "stream",
     "text": [
      "['mstp apssdc\\n', 'something went wrong']\n",
      "mstp apssdc\n",
      " something went wrong "
     ]
    }
   ],
   "source": [
    "def get_elements(f):\n",
    "    with open(\"data.txt\",\"r\") as f:\n",
    "        f1=f.readlines()\n",
    "        print(f1)\n",
    "        for i in f1:\n",
    "            print(i,end=\" \")\n",
    "f=\"data.txt\"\n",
    "get_elements(f)"
   ]
  },
  {
   "cell_type": "code",
   "execution_count": 14,
   "metadata": {},
   "outputs": [
    {
     "name": "stdout",
     "output_type": "stream",
     "text": [
      "2\n"
     ]
    }
   ],
   "source": [
    "# Lines count,characters count,words count,file length\n",
    "def lines_count(f):\n",
    "    count=0\n",
    "    with open(\"data.txt\",\"r\") as f:\n",
    "        x=f.readlines()\n",
    "        for i in x:\n",
    "            count=count+1\n",
    "        print(count)\n",
    "f=\"data.txt\"\n",
    "lines_count(f)"
   ]
  },
  {
   "cell_type": "code",
   "execution_count": 18,
   "metadata": {},
   "outputs": [
    {
     "name": "stdout",
     "output_type": "stream",
     "text": [
      "32\n"
     ]
    }
   ],
   "source": [
    "def char_count(f):\n",
    "    count=0\n",
    "    with open(\"data.txt\",\"r\") as f:\n",
    "        x=f.read()\n",
    "        for i in x:\n",
    "            count=count+1\n",
    "        print(count)\n",
    "        \n",
    "f=\"data.txt\"\n",
    "char_count(f)"
   ]
  },
  {
   "cell_type": "code",
   "execution_count": 29,
   "metadata": {},
   "outputs": [
    {
     "name": "stdout",
     "output_type": "stream",
     "text": [
      "5\n"
     ]
    }
   ],
   "source": [
    "def word_count(f):\n",
    "    count=0\n",
    "    with open(\"data.txt\",\"r\") as f:\n",
    "        x=f.read()\n",
    "        x1=x.split()\n",
    "        print(len(x1))\n",
    "f=\"data.txt\"\n",
    "word_count(f)"
   ]
  },
  {
   "cell_type": "code",
   "execution_count": null,
   "metadata": {},
   "outputs": [],
   "source": []
  }
 ],
 "metadata": {
  "kernelspec": {
   "display_name": "Python 3",
   "language": "python",
   "name": "python3"
  },
  "language_info": {
   "codemirror_mode": {
    "name": "ipython",
    "version": 3
   },
   "file_extension": ".py",
   "mimetype": "text/x-python",
   "name": "python",
   "nbconvert_exporter": "python",
   "pygments_lexer": "ipython3",
   "version": "3.7.3"
  }
 },
 "nbformat": 4,
 "nbformat_minor": 2
}
